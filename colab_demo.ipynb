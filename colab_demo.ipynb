{
  "nbformat": 4,
  "nbformat_minor": 0,
  "metadata": {
    "colab": {
      "name": "Untitled2.ipynb",
      "provenance": [],
      "collapsed_sections": [],
      "authorship_tag": "ABX9TyNrhU7F187UsdMGib/VeqMY",
      "include_colab_link": true
    },
    "kernelspec": {
      "name": "python3",
      "display_name": "Python 3"
    },
    "accelerator": "GPU"
  },
  "cells": [
    {
      "cell_type": "markdown",
      "metadata": {
        "id": "view-in-github",
        "colab_type": "text"
      },
      "source": [
        "<a href=\"https://colab.research.google.com/github/rakesh4real/FAQChatbot/blob/master/colab_demo.ipynb\" target=\"_parent\"><img src=\"https://colab.research.google.com/assets/colab-badge.svg\" alt=\"Open In Colab\"/></a>"
      ]
    },
    {
      "cell_type": "markdown",
      "metadata": {
        "id": "PsVfTrB4Sw-a"
      },
      "source": [
        "# Setup"
      ]
    },
    {
      "cell_type": "code",
      "metadata": {
        "id": "HbVSAXDmLreU",
        "outputId": "1a7576d4-a4c2-44cc-cc35-694a60897d5e",
        "colab": {
          "base_uri": "https://localhost:8080/",
          "height": 136
        }
      },
      "source": [
        "!git clone https://github.com/rakesh4real/FAQChatbot.git"
      ],
      "execution_count": 1,
      "outputs": [
        {
          "output_type": "stream",
          "text": [
            "Cloning into 'FAQChatbot'...\n",
            "remote: Enumerating objects: 3, done.\u001b[K\n",
            "remote: Counting objects: 100% (3/3), done.\u001b[K\n",
            "remote: Compressing objects: 100% (3/3), done.\u001b[K\n",
            "remote: Total 163 (delta 0), reused 1 (delta 0), pack-reused 160\u001b[K\n",
            "Receiving objects: 100% (163/163), 76.19 MiB | 45.41 MiB/s, done.\n",
            "Resolving deltas: 100% (66/66), done.\n"
          ],
          "name": "stdout"
        }
      ]
    },
    {
      "cell_type": "code",
      "metadata": {
        "id": "q23nhc-sL-sl",
        "outputId": "fa7b6475-5044-4431-f7af-b4e95ca0174c",
        "colab": {
          "base_uri": "https://localhost:8080/",
          "height": 85
        }
      },
      "source": [
        "!pip install bert-serving bert-serving-client"
      ],
      "execution_count": 19,
      "outputs": [
        {
          "output_type": "stream",
          "text": [
            "Requirement already satisfied: bert-serving in /usr/local/lib/python3.6/dist-packages (0.0.1)\n",
            "Requirement already satisfied: bert-serving-client in /usr/local/lib/python3.6/dist-packages (1.10.0)\n",
            "Requirement already satisfied: pyzmq>=17.1.0 in /usr/local/lib/python3.6/dist-packages (from bert-serving-client) (19.0.2)\n",
            "Requirement already satisfied: numpy in /usr/local/lib/python3.6/dist-packages (from bert-serving-client) (1.18.5)\n"
          ],
          "name": "stdout"
        }
      ]
    },
    {
      "cell_type": "code",
      "metadata": {
        "id": "pumLvbQyROIb",
        "outputId": "efbeab38-bdf0-4890-e038-6fc7d8434dcb",
        "colab": {
          "base_uri": "https://localhost:8080/",
          "height": 68
        }
      },
      "source": [
        "import nltk\n",
        "nltk.download('punkt')"
      ],
      "execution_count": 22,
      "outputs": [
        {
          "output_type": "stream",
          "text": [
            "[nltk_data] Downloading package punkt to /root/nltk_data...\n",
            "[nltk_data]   Unzipping tokenizers/punkt.zip.\n"
          ],
          "name": "stdout"
        },
        {
          "output_type": "execute_result",
          "data": {
            "text/plain": [
              "True"
            ]
          },
          "metadata": {
            "tags": []
          },
          "execution_count": 22
        }
      ]
    },
    {
      "cell_type": "code",
      "metadata": {
        "id": "JkfYN89LMNpf",
        "outputId": "123d7cf4-55d2-45f7-8216-d7acbf95bc9d",
        "colab": {
          "base_uri": "https://localhost:8080/",
          "height": 68
        }
      },
      "source": [
        "%cd FAQChatbot/src\n",
        "!ls"
      ],
      "execution_count": 4,
      "outputs": [
        {
          "output_type": "stream",
          "text": [
            "/content/FAQChatbot/src\n",
            "app.py\tenvironment.yml  sentsimeval.py  templates\n",
            "data\tfaqengine.py\t static\t\t vectorizers\n"
          ],
          "name": "stdout"
        }
      ]
    },
    {
      "cell_type": "markdown",
      "metadata": {
        "id": "aD1eMbkVS0Lh"
      },
      "source": [
        "# Redirect Port"
      ]
    },
    {
      "cell_type": "code",
      "metadata": {
        "id": "q1zKnKLRRnMf",
        "outputId": "f015b36e-07fe-4288-e35a-9f20a14033a3",
        "colab": {
          "base_uri": "https://localhost:8080/",
          "height": 34
        }
      },
      "source": [
        "from google.colab import output\n",
        "output.serve_kernel_port_as_window(8084)"
      ],
      "execution_count": 27,
      "outputs": [
        {
          "output_type": "display_data",
          "data": {
            "application/javascript": [
              "(async (port, path, text, element) => {\n",
              "    if (!google.colab.kernel.accessAllowed) {\n",
              "      return;\n",
              "    }\n",
              "    element.appendChild(document.createTextNode(''));\n",
              "    const url = await google.colab.kernel.proxyPort(port);\n",
              "    const anchor = document.createElement('a');\n",
              "    anchor.href = url + path;\n",
              "    anchor.target = '_blank';\n",
              "    anchor.setAttribute('data-href', url + path);\n",
              "    anchor.textContent = text;\n",
              "    element.appendChild(anchor);\n",
              "  })(8084, \"/\", \"https://localhost:8084/\", window.element)"
            ],
            "text/plain": [
              "<IPython.core.display.Javascript object>"
            ]
          },
          "metadata": {
            "tags": []
          }
        }
      ]
    },
    {
      "cell_type": "markdown",
      "metadata": {
        "id": "B0FjlXwLTVl8"
      },
      "source": [
        "# Run App"
      ]
    },
    {
      "cell_type": "code",
      "metadata": {
        "id": "XlnG6CXKMQRu",
        "outputId": "2bf9339c-d9a3-433b-aa28-df00f1fdd304",
        "colab": {
          "base_uri": "https://localhost:8080/",
          "height": 340
        }
      },
      "source": [
        "!python app.py"
      ],
      "execution_count": 28,
      "outputs": [
        {
          "output_type": "stream",
          "text": [
            " * Serving Flask app \"app\" (lazy loading)\n",
            " * Environment: production\n",
            "\u001b[31m   WARNING: This is a development server. Do not use it in a production deployment.\u001b[0m\n",
            "\u001b[2m   Use a production WSGI server instead.\u001b[0m\n",
            " * Debug mode: off\n",
            " * Running on http://127.0.0.1:8084/ (Press CTRL+C to quit)\n",
            "127.0.0.1 - - [23/Oct/2020 07:08:31] \"\u001b[37mGET / HTTP/1.1\u001b[0m\" 200 -\n",
            "127.0.0.1 - - [23/Oct/2020 07:08:31] \"\u001b[37mGET /static/css/chat_interface.css HTTP/1.1\u001b[0m\" 200 -\n",
            "127.0.0.1 - - [23/Oct/2020 07:08:32] \"\u001b[37mGET /static/js/bind.js HTTP/1.1\u001b[0m\" 200 -\n",
            "127.0.0.1 - - [23/Oct/2020 07:08:32] \"\u001b[37mGET /static/css/temporary.css HTTP/1.1\u001b[0m\" 200 -\n",
            "127.0.0.1 - - [23/Oct/2020 07:08:33] \"\u001b[33mGET /favicon.ico HTTP/1.1\u001b[0m\" 404 -\n",
            "127.0.0.1 - - [23/Oct/2020 07:08:46] \"\u001b[37mPOST /chat HTTP/1.1\u001b[0m\" 200 -\n",
            "127.0.0.1 - - [23/Oct/2020 07:08:52] \"\u001b[37mPOST /chat HTTP/1.1\u001b[0m\" 200 -\n",
            "127.0.0.1 - - [23/Oct/2020 07:09:04] \"\u001b[37mPOST /chat HTTP/1.1\u001b[0m\" 200 -\n",
            "127.0.0.1 - - [23/Oct/2020 07:09:13] \"\u001b[37mPOST /chat HTTP/1.1\u001b[0m\" 200 -\n",
            "127.0.0.1 - - [23/Oct/2020 07:09:22] \"\u001b[37mPOST /chat HTTP/1.1\u001b[0m\" 200 -\n",
            "127.0.0.1 - - [23/Oct/2020 07:09:27] \"\u001b[37mPOST /chat HTTP/1.1\u001b[0m\" 200 -\n",
            "127.0.0.1 - - [23/Oct/2020 07:09:35] \"\u001b[37mPOST /chat HTTP/1.1\u001b[0m\" 200 -\n",
            "^C\n"
          ],
          "name": "stdout"
        }
      ]
    }
  ]
}